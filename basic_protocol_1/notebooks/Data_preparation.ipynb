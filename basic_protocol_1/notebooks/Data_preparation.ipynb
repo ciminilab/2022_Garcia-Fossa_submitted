{
 "cells": [
  {
   "cell_type": "markdown",
   "id": "dd6adaca-724b-4b3c-bee3-c6534ec234d0",
   "metadata": {},
   "source": [
    "# DataFrame normalization and feature selection"
   ]
  },
  {
   "cell_type": "code",
   "execution_count": 1,
   "id": "4dd9a8da-e6f5-4902-8941-60fe1e3ea75e",
   "metadata": {},
   "outputs": [],
   "source": [
    "import pandas as pd\n",
    "import numpy as np\n",
    "import pycytominer"
   ]
  },
  {
   "cell_type": "markdown",
   "id": "2fef787d",
   "metadata": {},
   "source": [
    "## Import Metadata table"
   ]
  },
  {
   "cell_type": "code",
   "execution_count": 2,
   "id": "8ca4f7d7",
   "metadata": {},
   "outputs": [],
   "source": [
    "metadata = pd.read_csv(r\"G:\\.shortcut-targets-by-id\\1KeRLnpHR83EZFglJAK4Lzvtpxq504dxs\\2022_Fossa_Cruz_InterpretingProfiles\\Data\\metadata\\Metadata_SQ00015195.csv\")\n",
    "metadata = metadata.round(2)"
   ]
  },
  {
   "cell_type": "markdown",
   "id": "26e300cd-d454-4eac-a9e8-ee1dcc526bf3",
   "metadata": {},
   "source": [
    "## Import the csv tables\n",
    "\n",
    "- Import each table separately, add annotations and normalize in reference to DMSO (our negative control)"
   ]
  },
  {
   "cell_type": "code",
   "execution_count": 3,
   "id": "df7f2c45",
   "metadata": {},
   "outputs": [],
   "source": [
    "plates = [\"SQ00015195\", \"SQ00015218\", \"SQ00015219\", \"SQ00015220\", \"SQ00015221\"]\n",
    "path = r\"G:\\.shortcut-targets-by-id\\1KeRLnpHR83EZFglJAK4Lzvtpxq504dxs\\2022_Fossa_Cruz_InterpretingProfiles\\Data\\backend\\Raw tables\""
   ]
  },
  {
   "cell_type": "code",
   "execution_count": 4,
   "id": "54f45f58",
   "metadata": {},
   "outputs": [
    {
     "name": "stdout",
     "output_type": "stream",
     "text": [
      "(384, 1785)\n",
      "(384, 1785)\n",
      "(384, 1785)\n",
      "(384, 1785)\n",
      "(384, 1785)\n"
     ]
    }
   ],
   "source": [
    "df_lst = []\n",
    "for plt in plates:\n",
    "    df_temp = pd.read_csv(path + \"\\\\\" + plt + \".csv\", low_memory=False)\n",
    "    print(df_temp.shape)\n",
    "    df_temp['Metadata_Plate'] = df_temp['Image_Metadata_Plate']\n",
    "    df_temp['Metadata_Well'] = df_temp['Image_Metadata_Well']\n",
    "    df_temp = pycytominer.annotate(df_temp, metadata, join_on = ['Metadata_Well', 'Metadata_Well'])\n",
    "    df_norm = pycytominer.normalize(df_temp, method = 'mad_robustize', mad_robustize_epsilon = 0, samples = \"Metadata_Compound == 'DMSO'\") \n",
    "    df_lst.append(df_norm)\n",
    "df = pd.concat(df_lst)\n"
   ]
  },
  {
   "cell_type": "markdown",
   "id": "612b0cc4",
   "metadata": {},
   "source": [
    "## Feature selection using pycytominer methods"
   ]
  },
  {
   "cell_type": "code",
   "execution_count": 5,
   "id": "a2182015",
   "metadata": {},
   "outputs": [],
   "source": [
    "# df_selected = pycytominer.feature_select(df, operation = ['correlation_threshold', 'variance_threshold', 'drop_na_columns', 'drop_outliers'], blocklist_file = 'blocklist_features.txt')\n",
    "df_selected = pycytominer.feature_select(df, operation = ['correlation_threshold', 'variance_threshold', 'drop_na_columns', 'blocklist'])"
   ]
  },
  {
   "cell_type": "code",
   "execution_count": 6,
   "id": "9fc99725",
   "metadata": {},
   "outputs": [
    {
     "name": "stdout",
     "output_type": "stream",
     "text": [
      "How many columns were dropped? 1186\n"
     ]
    }
   ],
   "source": [
    "print('How many columns were dropped?',df.shape[1] - df_selected.shape[1])"
   ]
  },
  {
   "cell_type": "markdown",
   "id": "4a8071f8",
   "metadata": {},
   "source": [
    "## Remove duplicated columns"
   ]
  },
  {
   "cell_type": "code",
   "execution_count": 7,
   "id": "742835ef",
   "metadata": {},
   "outputs": [],
   "source": [
    "df_final = df_selected.loc[:,~df_selected.columns.duplicated()].copy()"
   ]
  },
  {
   "cell_type": "markdown",
   "id": "1a72c483",
   "metadata": {},
   "source": [
    "## Export to csv"
   ]
  },
  {
   "cell_type": "code",
   "execution_count": 8,
   "id": "86dc462b",
   "metadata": {},
   "outputs": [],
   "source": [
    "df_final.to_csv(path+ \"\\\\\" + \"Joined_tables.csv\")"
   ]
  }
 ],
 "metadata": {
  "kernelspec": {
   "display_name": "Python 3.9.12 ('pycytominer')",
   "language": "python",
   "name": "python3"
  },
  "language_info": {
   "codemirror_mode": {
    "name": "ipython",
    "version": 3
   },
   "file_extension": ".py",
   "mimetype": "text/x-python",
   "name": "python",
   "nbconvert_exporter": "python",
   "pygments_lexer": "ipython3",
   "version": "3.9.12"
  },
  "vscode": {
   "interpreter": {
    "hash": "0b0f1b97e275287bf162473fb7f5bf4d61e0faf8b1131d1dd0e85647099dcf42"
   }
  }
 },
 "nbformat": 4,
 "nbformat_minor": 5
}
