{
 "cells": [
  {
   "cell_type": "markdown",
   "id": "261ae36a",
   "metadata": {},
   "source": [
    "# Support notebook for Basic Protocol 2 \n",
    "# Select a few samples from a database file\n",
    "\n",
    "Based on @mhaghigh code"
   ]
  },
  {
   "cell_type": "markdown",
   "id": "50b00db5",
   "metadata": {},
   "source": [
    "# Import libraries"
   ]
  },
  {
   "cell_type": "code",
   "execution_count": 13,
   "id": "991b44e2",
   "metadata": {},
   "outputs": [],
   "source": [
    "import pandas as pd\n",
    "import numpy as np\n",
    "# from utils.read_data import *\n",
    "# from utils.visualize_data import *\n",
    "from functools import reduce\n",
    "from sklearn.cluster import KMeans\n",
    "from openpyxl import Workbook, load_workbook\n",
    "import os\n",
    "import easygui as eg\n",
    "from numpy import random\n",
    "import sqlite3\n",
    "import pycytominer"
   ]
  },
  {
   "cell_type": "markdown",
   "id": "47f5aa73",
   "metadata": {},
   "source": [
    "## Import database file\n",
    "\n",
    "- This specific database file is available on cpg0004-lincs. More details to download see https://github.com/broadinstitute/cellpainting-gallery"
   ]
  },
  {
   "cell_type": "code",
   "execution_count": 3,
   "id": "424a9d8a",
   "metadata": {},
   "outputs": [],
   "source": [
    "conn = sqlite3.connect(\"G:\\\\My Drive\\\\Notebooks\\\\SingleCell_Morphological_Analysis\\\\SQ00015195.sqlite\")"
   ]
  },
  {
   "cell_type": "markdown",
   "id": "03554a46",
   "metadata": {},
   "source": [
    "## Define which wells to retrieve from the dataset"
   ]
  },
  {
   "cell_type": "code",
   "execution_count": 4,
   "id": "3c8d103b",
   "metadata": {},
   "outputs": [],
   "source": [
    "well_name = [\"A02\", \"A07\", \"B07\", \"D19\", \"D21\", \"H13\", \"J19\", \"L19\"]\n",
    "\n",
    "channels = [\"DNA\",\"ER\",\"RNA\",\"AGP\",\"Mito\"]"
   ]
  },
  {
   "cell_type": "markdown",
   "id": "9c775611",
   "metadata": {},
   "source": [
    "## Retrieve image numbers from well's names"
   ]
  },
  {
   "cell_type": "code",
   "execution_count": 5,
   "id": "f65a6528",
   "metadata": {},
   "outputs": [
    {
     "name": "stdout",
     "output_type": "stream",
     "text": [
      "Image\n",
      "Cells\n",
      "Cytoplasm\n",
      "Nuclei\n"
     ]
    }
   ],
   "source": [
    "res = conn.execute(\"SELECT name FROM sqlite_master WHERE type='table';\")\n",
    "for name in res.fetchall():\n",
    "    print(name[0])"
   ]
  },
  {
   "cell_type": "code",
   "execution_count": 6,
   "id": "1a8adef5",
   "metadata": {},
   "outputs": [
    {
     "name": "stdout",
     "output_type": "stream",
     "text": [
      "('A02','A07','B07','D19','D21','H13','J19','L19')\n"
     ]
    }
   ],
   "source": [
    "#get the names of each well as a list from well_name\n",
    "rand_img_num=well_name.copy()\n",
    "\n",
    "list_str=\"('\"\n",
    "for i in rand_img_num:\n",
    "    list_str=list_str+str(i)+\"','\" \n",
    "list_str=list_str[:-2]+\")\"\n",
    "\n",
    "print(list_str)"
   ]
  },
  {
   "cell_type": "code",
   "execution_count": 7,
   "id": "9568324f",
   "metadata": {},
   "outputs": [],
   "source": [
    "#define the name of the well\n",
    "meta_well_col_str=\"Image_Metadata_Well\""
   ]
  },
  {
   "cell_type": "code",
   "execution_count": 8,
   "id": "c4d40625",
   "metadata": {},
   "outputs": [],
   "source": [
    "#create a query with the compartment names to be able to retrieve them from the table\n",
    "compartment_query = \"select * from {} WHERE {} IN {};\".\\\n",
    "format(\"Image\",meta_well_col_str,list_str)"
   ]
  },
  {
   "cell_type": "code",
   "execution_count": 9,
   "id": "9e4bc198",
   "metadata": {},
   "outputs": [],
   "source": [
    "#select the metadata and image measurements from the Image table belonging to the wells you want\n",
    "plateImageDf = pd.read_sql(sql=compartment_query, con=conn)"
   ]
  },
  {
   "cell_type": "code",
   "execution_count": 10,
   "id": "e1a283b6",
   "metadata": {},
   "outputs": [
    {
     "name": "stdout",
     "output_type": "stream",
     "text": [
      "(10,11,12,13,14,15,16,17,18,55,56,57,58,59,60,61,62,63,271,272,273,274,275,276,277,278,279,810,811,812,813,814,815,816,817,818,828,829,830,831,832,833,834,835,836,1620,1621,1622,1623,1624,1625,1626,1627,1628,2106,2107,2108,2109,2110,2111,2112,2113,2114,2538,2539,2540,2541,2542,2543,2544,2545,2546)\n"
     ]
    }
   ],
   "source": [
    "#get the ImageNumbers for the wells you want\n",
    "img_nums=plateImageDf.ImageNumber.unique().tolist()\n",
    "\n",
    "list_str2=\"(\"\n",
    "for i in img_nums:\n",
    "    list_str2=list_str2+str(i)+',' \n",
    "list_str2=list_str2[:-1]+\")\"\n",
    "\n",
    "print(list_str2)"
   ]
  },
  {
   "cell_type": "code",
   "execution_count": 11,
   "id": "50085c66",
   "metadata": {},
   "outputs": [],
   "source": [
    "#from the compartment names, open each table and retrieve information from the images on list_str2\n",
    "plateDf_list=[]\n",
    "compartments=[\"cells\", \"cytoplasm\", \"nuclei\"]\n",
    "\n",
    "for compartment in compartments:\n",
    "    compartment_query = \"select * from {} WHERE {} IN {};\".format(compartment,\"ImageNumber\",list_str2)\n",
    "    plateDf_list.append(pd.read_sql(sql=compartment_query, con=conn))"
   ]
  },
  {
   "cell_type": "code",
   "execution_count": 14,
   "id": "ea99b603",
   "metadata": {},
   "outputs": [],
   "source": [
    "#create the dataframe from the Df_list \n",
    "plateDf = reduce(lambda left,right: pd.merge(left,right,on=[\"TableNumber\", \"ImageNumber\", \"ObjectNumber\"]), plateDf_list)"
   ]
  },
  {
   "cell_type": "code",
   "execution_count": 15,
   "id": "7991a4e0",
   "metadata": {},
   "outputs": [],
   "source": [
    "#merge information from Image table with cells data\n",
    "plateDfwMeta = pd.merge(plateDf, plateImageDf, on=[\"TableNumber\", \"ImageNumber\"])"
   ]
  },
  {
   "cell_type": "code",
   "execution_count": 16,
   "id": "38cee17b",
   "metadata": {},
   "outputs": [],
   "source": [
    "#exclude duplicated cols\n",
    "plateDfwMeta = plateDfwMeta.loc[:,~plateDfwMeta.columns.duplicated()]"
   ]
  },
  {
   "cell_type": "code",
   "execution_count": 17,
   "id": "6b55c237",
   "metadata": {},
   "outputs": [],
   "source": [
    "#create a copy\n",
    "df_p_s0 = plateDfwMeta"
   ]
  },
  {
   "cell_type": "code",
   "execution_count": 18,
   "id": "e0ef6012",
   "metadata": {
    "scrolled": true
   },
   "outputs": [
    {
     "name": "stdout",
     "output_type": "stream",
     "text": [
      "(7577, 2442)\n"
     ]
    },
    {
     "data": {
      "text/html": [
       "<div>\n",
       "<style scoped>\n",
       "    .dataframe tbody tr th:only-of-type {\n",
       "        vertical-align: middle;\n",
       "    }\n",
       "\n",
       "    .dataframe tbody tr th {\n",
       "        vertical-align: top;\n",
       "    }\n",
       "\n",
       "    .dataframe thead th {\n",
       "        text-align: right;\n",
       "    }\n",
       "</style>\n",
       "<table border=\"1\" class=\"dataframe\">\n",
       "  <thead>\n",
       "    <tr style=\"text-align: right;\">\n",
       "      <th></th>\n",
       "      <th>TableNumber</th>\n",
       "      <th>ImageNumber</th>\n",
       "      <th>ObjectNumber</th>\n",
       "      <th>Cells_AreaShape_Area</th>\n",
       "      <th>Cells_AreaShape_Center_X</th>\n",
       "      <th>Cells_AreaShape_Center_Y</th>\n",
       "      <th>Cells_AreaShape_Compactness</th>\n",
       "      <th>Cells_AreaShape_Eccentricity</th>\n",
       "      <th>Cells_AreaShape_EulerNumber</th>\n",
       "      <th>Cells_AreaShape_Extent</th>\n",
       "      <th>...</th>\n",
       "      <th>Image_Width_IllumAGP</th>\n",
       "      <th>Image_Width_IllumDNA</th>\n",
       "      <th>Image_Width_IllumER</th>\n",
       "      <th>Image_Width_IllumMito</th>\n",
       "      <th>Image_Width_IllumRNA</th>\n",
       "      <th>Image_Width_OrigAGP</th>\n",
       "      <th>Image_Width_OrigDNA</th>\n",
       "      <th>Image_Width_OrigER</th>\n",
       "      <th>Image_Width_OrigMito</th>\n",
       "      <th>Image_Width_OrigRNA</th>\n",
       "    </tr>\n",
       "  </thead>\n",
       "  <tbody>\n",
       "    <tr>\n",
       "      <th>0</th>\n",
       "      <td>1240fc906b760746bfaa4913fdb947b6</td>\n",
       "      <td>10</td>\n",
       "      <td>1</td>\n",
       "      <td>7334</td>\n",
       "      <td>642.0</td>\n",
       "      <td>0.0</td>\n",
       "      <td>1.196197</td>\n",
       "      <td>0.732293</td>\n",
       "      <td>1.0</td>\n",
       "      <td>0.622053</td>\n",
       "      <td>...</td>\n",
       "      <td>2160</td>\n",
       "      <td>2160</td>\n",
       "      <td>2160</td>\n",
       "      <td>2160</td>\n",
       "      <td>2160</td>\n",
       "      <td>2160</td>\n",
       "      <td>2160</td>\n",
       "      <td>2160</td>\n",
       "      <td>2160</td>\n",
       "      <td>2160</td>\n",
       "    </tr>\n",
       "    <tr>\n",
       "      <th>1</th>\n",
       "      <td>1240fc906b760746bfaa4913fdb947b6</td>\n",
       "      <td>10</td>\n",
       "      <td>2</td>\n",
       "      <td>7084</td>\n",
       "      <td>1952.0</td>\n",
       "      <td>1.0</td>\n",
       "      <td>1.288208</td>\n",
       "      <td>0.865021</td>\n",
       "      <td>1.0</td>\n",
       "      <td>0.572722</td>\n",
       "      <td>...</td>\n",
       "      <td>2160</td>\n",
       "      <td>2160</td>\n",
       "      <td>2160</td>\n",
       "      <td>2160</td>\n",
       "      <td>2160</td>\n",
       "      <td>2160</td>\n",
       "      <td>2160</td>\n",
       "      <td>2160</td>\n",
       "      <td>2160</td>\n",
       "      <td>2160</td>\n",
       "    </tr>\n",
       "    <tr>\n",
       "      <th>2</th>\n",
       "      <td>1240fc906b760746bfaa4913fdb947b6</td>\n",
       "      <td>10</td>\n",
       "      <td>3</td>\n",
       "      <td>13696</td>\n",
       "      <td>2159.0</td>\n",
       "      <td>40.0</td>\n",
       "      <td>1.116869</td>\n",
       "      <td>0.632134</td>\n",
       "      <td>1.0</td>\n",
       "      <td>0.689766</td>\n",
       "      <td>...</td>\n",
       "      <td>2160</td>\n",
       "      <td>2160</td>\n",
       "      <td>2160</td>\n",
       "      <td>2160</td>\n",
       "      <td>2160</td>\n",
       "      <td>2160</td>\n",
       "      <td>2160</td>\n",
       "      <td>2160</td>\n",
       "      <td>2160</td>\n",
       "      <td>2160</td>\n",
       "    </tr>\n",
       "    <tr>\n",
       "      <th>3</th>\n",
       "      <td>1240fc906b760746bfaa4913fdb947b6</td>\n",
       "      <td>10</td>\n",
       "      <td>4</td>\n",
       "      <td>9814</td>\n",
       "      <td>1123.0</td>\n",
       "      <td>36.0</td>\n",
       "      <td>1.147676</td>\n",
       "      <td>0.773804</td>\n",
       "      <td>1.0</td>\n",
       "      <td>0.702606</td>\n",
       "      <td>...</td>\n",
       "      <td>2160</td>\n",
       "      <td>2160</td>\n",
       "      <td>2160</td>\n",
       "      <td>2160</td>\n",
       "      <td>2160</td>\n",
       "      <td>2160</td>\n",
       "      <td>2160</td>\n",
       "      <td>2160</td>\n",
       "      <td>2160</td>\n",
       "      <td>2160</td>\n",
       "    </tr>\n",
       "    <tr>\n",
       "      <th>4</th>\n",
       "      <td>1240fc906b760746bfaa4913fdb947b6</td>\n",
       "      <td>10</td>\n",
       "      <td>5</td>\n",
       "      <td>16297</td>\n",
       "      <td>1672.0</td>\n",
       "      <td>78.0</td>\n",
       "      <td>1.071092</td>\n",
       "      <td>0.708822</td>\n",
       "      <td>1.0</td>\n",
       "      <td>0.691606</td>\n",
       "      <td>...</td>\n",
       "      <td>2160</td>\n",
       "      <td>2160</td>\n",
       "      <td>2160</td>\n",
       "      <td>2160</td>\n",
       "      <td>2160</td>\n",
       "      <td>2160</td>\n",
       "      <td>2160</td>\n",
       "      <td>2160</td>\n",
       "      <td>2160</td>\n",
       "      <td>2160</td>\n",
       "    </tr>\n",
       "  </tbody>\n",
       "</table>\n",
       "<p>5 rows × 2442 columns</p>\n",
       "</div>"
      ],
      "text/plain": [
       "                        TableNumber  ImageNumber  ObjectNumber  \\\n",
       "0  1240fc906b760746bfaa4913fdb947b6           10             1   \n",
       "1  1240fc906b760746bfaa4913fdb947b6           10             2   \n",
       "2  1240fc906b760746bfaa4913fdb947b6           10             3   \n",
       "3  1240fc906b760746bfaa4913fdb947b6           10             4   \n",
       "4  1240fc906b760746bfaa4913fdb947b6           10             5   \n",
       "\n",
       "   Cells_AreaShape_Area  Cells_AreaShape_Center_X  Cells_AreaShape_Center_Y  \\\n",
       "0                  7334                     642.0                       0.0   \n",
       "1                  7084                    1952.0                       1.0   \n",
       "2                 13696                    2159.0                      40.0   \n",
       "3                  9814                    1123.0                      36.0   \n",
       "4                 16297                    1672.0                      78.0   \n",
       "\n",
       "   Cells_AreaShape_Compactness  Cells_AreaShape_Eccentricity  \\\n",
       "0                     1.196197                      0.732293   \n",
       "1                     1.288208                      0.865021   \n",
       "2                     1.116869                      0.632134   \n",
       "3                     1.147676                      0.773804   \n",
       "4                     1.071092                      0.708822   \n",
       "\n",
       "   Cells_AreaShape_EulerNumber  Cells_AreaShape_Extent  ...  \\\n",
       "0                          1.0                0.622053  ...   \n",
       "1                          1.0                0.572722  ...   \n",
       "2                          1.0                0.689766  ...   \n",
       "3                          1.0                0.702606  ...   \n",
       "4                          1.0                0.691606  ...   \n",
       "\n",
       "   Image_Width_IllumAGP  Image_Width_IllumDNA  Image_Width_IllumER  \\\n",
       "0                  2160                  2160                 2160   \n",
       "1                  2160                  2160                 2160   \n",
       "2                  2160                  2160                 2160   \n",
       "3                  2160                  2160                 2160   \n",
       "4                  2160                  2160                 2160   \n",
       "\n",
       "   Image_Width_IllumMito  Image_Width_IllumRNA  Image_Width_OrigAGP  \\\n",
       "0                   2160                  2160                 2160   \n",
       "1                   2160                  2160                 2160   \n",
       "2                   2160                  2160                 2160   \n",
       "3                   2160                  2160                 2160   \n",
       "4                   2160                  2160                 2160   \n",
       "\n",
       "   Image_Width_OrigDNA  Image_Width_OrigER  Image_Width_OrigMito  \\\n",
       "0                 2160                2160                  2160   \n",
       "1                 2160                2160                  2160   \n",
       "2                 2160                2160                  2160   \n",
       "3                 2160                2160                  2160   \n",
       "4                 2160                2160                  2160   \n",
       "\n",
       "   Image_Width_OrigRNA  \n",
       "0                 2160  \n",
       "1                 2160  \n",
       "2                 2160  \n",
       "3                 2160  \n",
       "4                 2160  \n",
       "\n",
       "[5 rows x 2442 columns]"
      ]
     },
     "execution_count": 18,
     "metadata": {},
     "output_type": "execute_result"
    }
   ],
   "source": [
    "#take a look at the dataframe\n",
    "print(df_p_s0.shape)\n",
    "df_p_s0.head()"
   ]
  },
  {
   "cell_type": "markdown",
   "id": "e4705701",
   "metadata": {},
   "source": [
    "## Save selected DataFrame to csv"
   ]
  },
  {
   "cell_type": "code",
   "execution_count": 19,
   "id": "3af8296f",
   "metadata": {},
   "outputs": [],
   "source": [
    "import pickle\n",
    "df_p_s0.to_csv(\"SQ00015195_raw.csv\")"
   ]
  }
 ],
 "metadata": {
  "kernelspec": {
   "display_name": "Python 3.9.12 ('pycytominer')",
   "language": "python",
   "name": "python3"
  },
  "language_info": {
   "codemirror_mode": {
    "name": "ipython",
    "version": 3
   },
   "file_extension": ".py",
   "mimetype": "text/x-python",
   "name": "python",
   "nbconvert_exporter": "python",
   "pygments_lexer": "ipython3",
   "version": "3.9.12"
  },
  "vscode": {
   "interpreter": {
    "hash": "0b0f1b97e275287bf162473fb7f5bf4d61e0faf8b1131d1dd0e85647099dcf42"
   }
  }
 },
 "nbformat": 4,
 "nbformat_minor": 5
}
